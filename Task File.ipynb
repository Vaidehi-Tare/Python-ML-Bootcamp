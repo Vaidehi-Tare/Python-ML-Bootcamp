{
  "nbformat": 4,
  "nbformat_minor": 0,
  "metadata": {
    "colab": {
      "name": "Vaidehi_Tare.ipynb",
      "provenance": [],
      "collapsed_sections": []
    },
    "kernelspec": {
      "name": "python3",
      "display_name": "Python 3"
    }
  },
  "cells": [
    {
      "cell_type": "markdown",
      "metadata": {
        "id": "GmVuiazM3XOz"
      },
      "source": [
        "**Step 1: Importing required libraries**"
      ]
    },
    {
      "cell_type": "code",
      "metadata": {
        "id": "4Xgay4aNirYM"
      },
      "source": [
        "import pandas as pd\n",
        "import numpy as np"
      ],
      "execution_count": null,
      "outputs": []
    },
    {
      "cell_type": "markdown",
      "metadata": {
        "id": "JZWYu6gv370q"
      },
      "source": [
        "**Step 2: Loading the Data**"
      ]
    },
    {
      "cell_type": "code",
      "metadata": {
        "id": "dtL424UkirQG"
      },
      "source": [
        "from sklearn.datasets import load_iris\n",
        "iris_dataset = load_iris()"
      ],
      "execution_count": null,
      "outputs": []
    },
    {
      "cell_type": "markdown",
      "metadata": {
        "id": "h5kKawAG8Wtm"
      },
      "source": [
        "**Step 3: Exploring the Dataset**"
      ]
    },
    {
      "cell_type": "code",
      "metadata": {
        "id": "QmHb4fGpOy2H",
        "colab": {
          "base_uri": "https://localhost:8080/"
        },
        "outputId": "177dc4f5-6113-48b5-d409-ea8a81c54b4f"
      },
      "source": [
        "print('Keys of iris dataset :\\n{}'.format(iris_dataset.keys()))"
      ],
      "execution_count": null,
      "outputs": [
        {
          "output_type": "stream",
          "text": [
            "Keys of iris dataset :\n",
            "dict_keys(['data', 'target', 'target_names', 'DESCR', 'feature_names', 'filename'])\n"
          ],
          "name": "stdout"
        }
      ]
    },
    {
      "cell_type": "markdown",
      "metadata": {
        "id": "BFqUifbF4TtK"
      },
      "source": [
        "**Let us now check the description of the dataset that is given by the value of the key 'DESCR'. We are checking the description only upto 500 characters. If you want you can increase the value and read more description of the dataset.**"
      ]
    },
    {
      "cell_type": "code",
      "metadata": {
        "colab": {
          "base_uri": "https://localhost:8080/"
        },
        "id": "c7ui0ucCirdj",
        "outputId": "eabb0208-a4c2-4c6d-b70b-bb347e26c0e9"
      },
      "source": [
        "print(iris_dataset['DESCR'][:500] + '\\n...')"
      ],
      "execution_count": null,
      "outputs": [
        {
          "output_type": "stream",
          "text": [
            ".. _iris_dataset:\n",
            "\n",
            "Iris plants dataset\n",
            "--------------------\n",
            "\n",
            "**Data Set Characteristics:**\n",
            "\n",
            "    :Number of Instances: 150 (50 in each of three classes)\n",
            "    :Number of Attributes: 4 numeric, predictive attributes and the class\n",
            "    :Attribute Information:\n",
            "        - sepal length in cm\n",
            "        - sepal width in cm\n",
            "        - petal length in cm\n",
            "        - petal width in cm\n",
            "        - class:\n",
            "                - Iris-Setosa\n",
            "                - Iris-Versicolour\n",
            "                - Iris-Virginica\n",
            "                \n",
            "\n",
            "...\n"
          ],
          "name": "stdout"
        }
      ]
    },
    {
      "cell_type": "code",
      "metadata": {
        "colab": {
          "base_uri": "https://localhost:8080/"
        },
        "id": "FTRY3yPDirh8",
        "outputId": "7c9de1ba-836d-490c-bb38-74a5e0b1f8c2"
      },
      "source": [
        "print('Target names : {}'.format(iris_dataset['target_names']))"
      ],
      "execution_count": null,
      "outputs": [
        {
          "output_type": "stream",
          "text": [
            "Target names : ['setosa' 'versicolor' 'virginica']\n"
          ],
          "name": "stdout"
        }
      ]
    },
    {
      "cell_type": "markdown",
      "metadata": {
        "id": "GMzwiEqd9Aw_"
      },
      "source": [
        "**As we can see, the dataset is about 3 species of the flower IRIS with the species names as** \n",
        "1. Setosa\n",
        "2. Versicolor\n",
        "3. Virginica"
      ]
    },
    {
      "cell_type": "code",
      "metadata": {
        "colab": {
          "base_uri": "https://localhost:8080/"
        },
        "id": "sVLKfb8b5Orr",
        "outputId": "402b5345-97ec-4f3b-ee05-e43843a3ef9c"
      },
      "source": [
        "print('Feature names : {}'.format(iris_dataset['feature_names']))"
      ],
      "execution_count": null,
      "outputs": [
        {
          "output_type": "stream",
          "text": [
            "Feature names : ['sepal length (cm)', 'sepal width (cm)', 'petal length (cm)', 'petal width (cm)']\n"
          ],
          "name": "stdout"
        }
      ]
    },
    {
      "cell_type": "markdown",
      "metadata": {
        "id": "d2HhJKHS9QEk"
      },
      "source": [
        "**The details about the flower given in the data are its** \n",
        "1. Sepal Length\n",
        "2. Sepal Width\n",
        "3. Petal Length\n",
        "4. Petal Width \n",
        "**Also note that all the values given are in cms.**"
      ]
    },
    {
      "cell_type": "code",
      "metadata": {
        "colab": {
          "base_uri": "https://localhost:8080/"
        },
        "id": "OrCIb19N5Ot4",
        "outputId": "31c9ef57-fc83-4616-eca7-60f1f07fe6d5"
      },
      "source": [
        "print('Type of data: {}'.format(type(iris_dataset['data'])))\n",
        "\n",
        "# the type of the column 'data' is numpy array"
      ],
      "execution_count": null,
      "outputs": [
        {
          "output_type": "stream",
          "text": [
            "Type of data: <class 'numpy.ndarray'>\n"
          ],
          "name": "stdout"
        }
      ]
    },
    {
      "cell_type": "code",
      "metadata": {
        "colab": {
          "base_uri": "https://localhost:8080/"
        },
        "id": "5Uly1f0t5Owy",
        "outputId": "a1dba3c3-af6b-428a-824c-619630c18100"
      },
      "source": [
        "print('Shape of data: {}'.format(iris_dataset['data'].shape))"
      ],
      "execution_count": null,
      "outputs": [
        {
          "output_type": "stream",
          "text": [
            "Shape of data: (150, 4)\n"
          ],
          "name": "stdout"
        }
      ]
    },
    {
      "cell_type": "code",
      "metadata": {
        "colab": {
          "base_uri": "https://localhost:8080/"
        },
        "id": "nJzEOAZl6BTL",
        "outputId": "233db6e6-0a46-409b-ebe4-58078e2fcdda"
      },
      "source": [
        "print('First Five columns of data: \\n{}'.format(iris_dataset['data'][:5]))"
      ],
      "execution_count": null,
      "outputs": [
        {
          "output_type": "stream",
          "text": [
            "First Five columns of data: \n",
            "[[5.1 3.5 1.4 0.2]\n",
            " [4.9 3.  1.4 0.2]\n",
            " [4.7 3.2 1.3 0.2]\n",
            " [4.6 3.1 1.5 0.2]\n",
            " [5.  3.6 1.4 0.2]]\n"
          ],
          "name": "stdout"
        }
      ]
    },
    {
      "cell_type": "markdown",
      "metadata": {
        "id": "20wAuQ8z6ojz"
      },
      "source": [
        "**From the data we understand that the first 5 flowers have the same petal width of 0.2 cm and that the first flower has the longest sepal with 5.1 cm size.**"
      ]
    },
    {
      "cell_type": "code",
      "metadata": {
        "colab": {
          "base_uri": "https://localhost:8080/"
        },
        "id": "WnyFMLXS6BVi",
        "outputId": "30649133-865f-4ca7-ccb7-fb468b6d7419"
      },
      "source": [
        "print('Type of target: {}'.format(type(iris_dataset['target'])))\n",
        "\n",
        "# the type of the column 'target' is also numpy array"
      ],
      "execution_count": null,
      "outputs": [
        {
          "output_type": "stream",
          "text": [
            "Type of target: <class 'numpy.ndarray'>\n"
          ],
          "name": "stdout"
        }
      ]
    },
    {
      "cell_type": "code",
      "metadata": {
        "colab": {
          "base_uri": "https://localhost:8080/"
        },
        "id": "SnQq85pt6BaL",
        "outputId": "cbeab316-37b2-42e5-8fc3-a60bb30cd681"
      },
      "source": [
        "print('Shape of target: {}'.format(iris_dataset['target'].shape))"
      ],
      "execution_count": null,
      "outputs": [
        {
          "output_type": "stream",
          "text": [
            "Shape of target: (150,)\n"
          ],
          "name": "stdout"
        }
      ]
    },
    {
      "cell_type": "code",
      "metadata": {
        "colab": {
          "base_uri": "https://localhost:8080/"
        },
        "id": "ksrfKd-D6BdC",
        "outputId": "3668006a-a631-4f6a-c370-3418eac0c058"
      },
      "source": [
        "print('Target:\\n {}'.format(iris_dataset['target']))"
      ],
      "execution_count": null,
      "outputs": [
        {
          "output_type": "stream",
          "text": [
            "Target:\n",
            " [0 0 0 0 0 0 0 0 0 0 0 0 0 0 0 0 0 0 0 0 0 0 0 0 0 0 0 0 0 0 0 0 0 0 0 0 0\n",
            " 0 0 0 0 0 0 0 0 0 0 0 0 0 1 1 1 1 1 1 1 1 1 1 1 1 1 1 1 1 1 1 1 1 1 1 1 1\n",
            " 1 1 1 1 1 1 1 1 1 1 1 1 1 1 1 1 1 1 1 1 1 1 1 1 1 1 2 2 2 2 2 2 2 2 2 2 2\n",
            " 2 2 2 2 2 2 2 2 2 2 2 2 2 2 2 2 2 2 2 2 2 2 2 2 2 2 2 2 2 2 2 2 2 2 2 2 2\n",
            " 2 2]\n"
          ],
          "name": "stdout"
        }
      ]
    },
    {
      "cell_type": "markdown",
      "metadata": {
        "id": "7gggyWZJ-NWF"
      },
      "source": [
        "**The values in the variable 'target' are 0, 1, 2. The value 0 stands for the target name SETOSA while 1 is VERSICOLOR and 2 is VIRGINICA. We can also write is as**\n",
        "* 0 --> SETOSA\n",
        "* 1 --> VERSICOLOR\n",
        "* 2 --> VIRGINICA"
      ]
    },
    {
      "cell_type": "markdown",
      "metadata": {
        "id": "saz3QHst-0AN"
      },
      "source": [
        "**Step 4: Splitting the data into TRAIN and TEST**"
      ]
    },
    {
      "cell_type": "code",
      "metadata": {
        "id": "fBapCJReirm1"
      },
      "source": [
        "from sklearn.model_selection import train_test_split\n",
        "X_train, X_test, y_train, y_test = train_test_split(\n",
        "    iris_dataset['data'], iris_dataset['target'], random_state = 0)"
      ],
      "execution_count": null,
      "outputs": []
    },
    {
      "cell_type": "code",
      "metadata": {
        "colab": {
          "base_uri": "https://localhost:8080/"
        },
        "id": "-t2cRClVirq0",
        "outputId": "eb2e4769-2cf7-4dd8-9eee-85af41227966"
      },
      "source": [
        "# printing the shape of train and test data\n",
        "\n",
        "print('X Train shape = {}'.format(X_train.shape))\n",
        "print('Y Train shape = {}'.format(y_train.shape))\n",
        "print('X Test shape = {}'.format(X_test.shape))\n",
        "print('Y Test shape = {}'.format(y_test.shape))"
      ],
      "execution_count": null,
      "outputs": [
        {
          "output_type": "stream",
          "text": [
            "X Train shape = (112, 4)\n",
            "Y Train shape = (112,)\n",
            "X Test shape = (38, 4)\n",
            "Y Test shape = (38,)\n"
          ],
          "name": "stdout"
        }
      ]
    },
    {
      "cell_type": "markdown",
      "metadata": {
        "id": "VJvbmags_DSD"
      },
      "source": [
        "**Step 5: Implementing Machine Learning Model**"
      ]
    },
    {
      "cell_type": "code",
      "metadata": {
        "id": "MDg-ok_RirvW"
      },
      "source": [
        "# importing the required model\n",
        "from sklearn.neighbors import KNeighborsClassifier\n",
        "\n",
        "# instantiating the object of the class\n",
        "knn = KNeighborsClassifier(n_neighbors = 1)"
      ],
      "execution_count": null,
      "outputs": []
    },
    {
      "cell_type": "code",
      "metadata": {
        "colab": {
          "base_uri": "https://localhost:8080/"
        },
        "id": "G0d9sY3UirzM",
        "outputId": "163018e4-7895-4790-de5f-fb5593665eef"
      },
      "source": [
        "# Fitting the model\n",
        "knn.fit(X_train, y_train)"
      ],
      "execution_count": null,
      "outputs": [
        {
          "output_type": "execute_result",
          "data": {
            "text/plain": [
              "KNeighborsClassifier(algorithm='auto', leaf_size=30, metric='minkowski',\n",
              "                     metric_params=None, n_jobs=None, n_neighbors=1, p=2,\n",
              "                     weights='uniform')"
            ]
          },
          "metadata": {
            "tags": []
          },
          "execution_count": 19
        }
      ]
    },
    {
      "cell_type": "markdown",
      "metadata": {
        "id": "CwU6tLoc_UGS"
      },
      "source": [
        "**Now, we will create a new array to give as input to the model. The shape of the array is 1 row and 4 columns. However, we have created it as a 2d array since the 'predict' class to which we are going to pass it takes 2d array object.**"
      ]
    },
    {
      "cell_type": "code",
      "metadata": {
        "colab": {
          "base_uri": "https://localhost:8080/"
        },
        "id": "EftJ7aogir3e",
        "outputId": "81be7759-ffd4-44ff-ae64-abf8221f3775"
      },
      "source": [
        "X_new = np.array([[5, 2.9, 1, 0.2]])\n",
        "\n",
        "print('X_new Shape = {}'.format(X_new.shape))"
      ],
      "execution_count": null,
      "outputs": [
        {
          "output_type": "stream",
          "text": [
            "X_new Shape = (1, 4)\n"
          ],
          "name": "stdout"
        }
      ]
    },
    {
      "cell_type": "markdown",
      "metadata": {
        "id": "C0e89RKyAGul"
      },
      "source": [
        "**Predicting the class of flower depending on the new data that we created above**"
      ]
    },
    {
      "cell_type": "code",
      "metadata": {
        "colab": {
          "base_uri": "https://localhost:8080/"
        },
        "id": "bdJ-h7mRisEM",
        "outputId": "b959c048-67f1-4262-e94e-57acdd222b8c"
      },
      "source": [
        "prediction = knn.predict(X_new)\n",
        "\n",
        "print('Prediction : {}'.format(prediction))\n",
        "print('Prediction target name : {}'.format(\n",
        "    iris_dataset['target_names'][prediction]))"
      ],
      "execution_count": null,
      "outputs": [
        {
          "output_type": "stream",
          "text": [
            "Prediction : [0]\n",
            "Prediction target name : ['setosa']\n"
          ],
          "name": "stdout"
        }
      ]
    },
    {
      "cell_type": "markdown",
      "metadata": {
        "id": "7FiMLAYQAMh1"
      },
      "source": [
        "**Predicting the class of flowers based on the test data**"
      ]
    },
    {
      "cell_type": "code",
      "metadata": {
        "colab": {
          "base_uri": "https://localhost:8080/"
        },
        "id": "PsAWHP9kpz5Q",
        "outputId": "b88b17d8-1963-4748-c0c7-b0f76b1e64a9"
      },
      "source": [
        "y_pred = knn.predict(X_test)\n",
        "print('Test set predictions:\\n {}'.format(y_pred))"
      ],
      "execution_count": null,
      "outputs": [
        {
          "output_type": "stream",
          "text": [
            "Test set predictions:\n",
            " [2 1 0 2 0 2 0 1 1 1 2 1 1 1 1 0 1 1 0 0 2 1 0 0 2 0 0 1 1 0 2 1 0 2 2 1 0\n",
            " 2]\n"
          ],
          "name": "stdout"
        }
      ]
    },
    {
      "cell_type": "markdown",
      "metadata": {
        "id": "QQoJgUMyAStr"
      },
      "source": [
        "**Calculating the efficiency of the model in order to check if it is an effective model or not**"
      ]
    },
    {
      "cell_type": "code",
      "metadata": {
        "colab": {
          "base_uri": "https://localhost:8080/"
        },
        "id": "ulekMUSqpz78",
        "outputId": "be702e02-0917-42cb-bfa2-b514c514be43"
      },
      "source": [
        "print('Test set score: {}'.format(np.mean(y_pred == y_test)))"
      ],
      "execution_count": null,
      "outputs": [
        {
          "output_type": "stream",
          "text": [
            "Test set score: 0.9736842105263158\n"
          ],
          "name": "stdout"
        }
      ]
    }
  ]
}